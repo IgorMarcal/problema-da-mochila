{
 "cells": [
  {
   "cell_type": "code",
   "execution_count": 1,
   "id": "fe382922",
   "metadata": {},
   "outputs": [],
   "source": [
    "import importlib\n",
    "from itens import ItemDataclass, ItensPreDefinidos\n",
    "from HC import HC\n",
    "\n",
    "def executar_otimizacao(algoritmo):\n",
    "    todos_itens = ItensPreDefinidos.obter_todos_itens()\n",
    "\n",
    "    print(f\"Algoritmo: {algoritmo}\")\n",
    "    print(f\"Itens: {todos_itens}\")\n",
    "    print(\"-\" * 50)\n",
    "    \n",
    "    print()\n",
    "    \n",
    "    if algoritmo.upper() == 'HC':\n",
    "        HC.executa_hc(todos_itens)\n",
    "        \n",
    "        # print(mensagem)\n",
    "        # print(mensagem)\n",
    "        # print(mensagem)\n",
    "        # print(mensagem)\n",
    "        # print(mensagem)\n",
    "        \n",
    "        # if caminho:\n",
    "        #     print(f\"Caminho encontrado com {len(caminho)-1} passos!\")\n",
    "        #     print(\"\\nMapa com solução:\")\n",
    "        #     visualizar_caminho(mapa, caminho)\n",
    "        \n",
    "        # imprimir_relatorio(caminho, nos_expandidos, nome_mapa, \"BFS\")\n",
    "        \n",
    "    # if algoritmo.upper() == 'A*':\n",
    "    #     caminho, mensagem, nos_expandidos = executar_a_estrela(mapa, inicio, objetivo, mostrar_processo)\n",
    "        \n",
    "    #     print(mensagem)\n",
    "        \n",
    "    #     if caminho:\n",
    "    #         print(f\"Caminho encontrado com {len(caminho)-1} passos!\")\n",
    "    #         print(\"\\nMapa com solução:\")\n",
    "    #         visualizar_caminho(mapa, caminho)\n",
    "        \n",
    "    #     imprimir_relatorio(caminho, nos_expandidos, nome_mapa, \"A* com heuristica de manhhatan\")\n",
    "    \n",
    "    # else:\n",
    "        # print(f\"Algoritmo {algoritmo} ainda não implementado\")"
   ]
  },
  {
   "cell_type": "code",
   "execution_count": 2,
   "id": "afbb1539",
   "metadata": {},
   "outputs": [
    {
     "name": "stdout",
     "output_type": "stream",
     "text": [
      "Algoritmo: HC\n",
      "Itens: [ItemDataclass(nome='Item 1', valor=60, peso=10), ItemDataclass(nome='Item 2', valor=100, peso=20), ItemDataclass(nome='Item 3', valor=120, peso=30), ItemDataclass(nome='Item 4', valor=90, peso=15), ItemDataclass(nome='Item 5', valor=30, peso=5), ItemDataclass(nome='Item 6', valor=70, peso=12), ItemDataclass(nome='Item 7', valor=40, peso=7), ItemDataclass(nome='Item 8', valor=160, peso=25), ItemDataclass(nome='Item 9', valor=20, peso=3), ItemDataclass(nome='Item 10', valor=50, peso=9), ItemDataclass(nome='Item 11', valor=110, peso=18), ItemDataclass(nome='Item 12', valor=85, peso=14), ItemDataclass(nome='Item 13', valor=95, peso=16), ItemDataclass(nome='Item 14', valor=200, peso=28), ItemDataclass(nome='Item 15', valor=55, peso=6)]\n",
      "--------------------------------------------------\n",
      "\n",
      "🔍 HILL CLIMBING - PROBLEMA DA MOCHILA\n",
      "📊 Configuração: 15 itens, 50kg, máx 300 iterações\n",
      "📋 Regras: Solução aleatória reparada + Flip de 1 item + Parada por iteração/estagnação\n",
      "======================================================================\n",
      "Gerando solução inicial aleatória...\n",
      "ESTAGNAÇÃO na iteração 0\n",
      "   Nenhum vizinho oferece melhoria no fitness!\n",
      "\n",
      "======================================================================\n",
      "🏆 RESULTADO FINAL DO HILL CLIMBING\n",
      "======================================================================\n",
      "Melhor valor encontrado: R$ 290.00\n",
      "Peso utilizado: 46.00kg / 50kg (92.0%)\n",
      "Eficiência: 6.30 valor/kg\n",
      "Total de iterações executadas: 0\n",
      "Quantidade de itens selecionados: 3\n",
      "\n",
      "📋 COMPOSIÇÃO FINAL DA MOCHILA:\n",
      " 1. Item 8  : R$160.00 ( 25.0kg) | Ratio:  6.40\n",
      " 2. Item 9  : R$ 20.00 (  3.0kg) | Ratio:  6.67\n",
      " 3. Item 11 : R$110.00 ( 18.0kg) | Ratio:  6.11\n",
      "\n",
      "🧮 Verificação: R$ 290.00 | 46.0kg\n"
     ]
    }
   ],
   "source": [
    "executar_otimizacao('HC')"
   ]
  },
  {
   "cell_type": "code",
   "execution_count": null,
   "id": "4cc01a13",
   "metadata": {},
   "outputs": [],
   "source": []
  }
 ],
 "metadata": {
  "kernelspec": {
   "display_name": "Python 3 (ipykernel)",
   "language": "python",
   "name": "python3"
  },
  "language_info": {
   "codemirror_mode": {
    "name": "ipython",
    "version": 3
   },
   "file_extension": ".py",
   "mimetype": "text/x-python",
   "name": "python",
   "nbconvert_exporter": "python",
   "pygments_lexer": "ipython3",
   "version": "3.11.2"
  }
 },
 "nbformat": 4,
 "nbformat_minor": 5
}
